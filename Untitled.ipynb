{
 "cells": [
  {
   "cell_type": "code",
   "execution_count": 4,
   "id": "dcb22150-e18b-4c1a-8dac-b2a519bc0ffc",
   "metadata": {},
   "outputs": [
    {
     "ename": "IndentationError",
     "evalue": "unexpected indent (3338520381.py, line 7)",
     "output_type": "error",
     "traceback": [
      "  \u001b[36mCell\u001b[39m\u001b[36m \u001b[39m\u001b[32mIn[4]\u001b[39m\u001b[32m, line 7\u001b[39m\n\u001b[31m    \u001b[39m\u001b[31m'심전도', '최대심박수', '운동유발협심증', 'ST우울증', '운동후ST검사',\u001b[39m\n    ^\n\u001b[31mIndentationError\u001b[39m\u001b[31m:\u001b[39m unexpected indent\n"
     ]
    }
   ],
   "source": [
    "import pandas as pd \n",
    "\n",
    "file_path = 'datasets/heart.csv'\n",
    "df = pd.read_csv(file_path)\n",
    "\n",
    "#df.columns = ['나이', '성별', '흉통유형', '안정시혈압', '콜레스테롤', '공복혈당', \n",
    "              '심전도', '최대심박수', '운동유발협심증', 'ST우울증', '운동후ST검사', \n",
    "              '주요혈관수', '결합유형', '심장질환여부'] \n",
    "#print(df)\n"
   ]
  },
  {
   "cell_type": "code",
   "execution_count": null,
   "id": "9c77734a-a320-4be7-a1bc-75d443574370",
   "metadata": {},
   "outputs": [],
   "source": []
  }
 ],
 "metadata": {
  "kernelspec": {
   "display_name": "Python 3 (ipykernel)",
   "language": "python",
   "name": "python3"
  },
  "language_info": {
   "codemirror_mode": {
    "name": "ipython",
    "version": 3
   },
   "file_extension": ".py",
   "mimetype": "text/x-python",
   "name": "python",
   "nbconvert_exporter": "python",
   "pygments_lexer": "ipython3",
   "version": "3.13.1"
  }
 },
 "nbformat": 4,
 "nbformat_minor": 5
}
