{
 "cells": [
  {
   "cell_type": "code",
   "execution_count": null,
   "id": "b403049f-b9a2-4efc-9c34-95904c48aa1d",
   "metadata": {},
   "outputs": [],
   "source": []
  }
 ],
 "metadata": {
  "kernelspec": {
   "display_name": "",
   "name": ""
  },
  "language_info": {
   "name": ""
  }
 },
 "nbformat": 4,
 "nbformat_minor": 5
}
