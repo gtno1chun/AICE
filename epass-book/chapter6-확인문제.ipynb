{
 "cells": [
  {
   "cell_type": "code",
   "execution_count": 18,
   "id": "28b70402-17ba-4900-9698-9cb94e11459c",
   "metadata": {},
   "outputs": [
    {
     "name": "stdout",
     "output_type": "stream",
     "text": [
      "target1  73   135\n",
      "target0          \n",
      "25       1.0  0.0\n",
      "45       0.0  1.0\n"
     ]
    }
   ],
   "source": [
    "## 24\n",
    "import pandas as pd \n",
    "\n",
    "data = {'sex': [0, 1], 'target0': [25, 45], 'target1': [73, 135]}\n",
    "\n",
    "df = pd.DataFrame(data)\n",
    "df.head()\n",
    "\n",
    "crosstab = pd.crosstab(df['target0'], df['target1'], normalize='index')\n",
    "print(crosstab)"
   ]
  },
  {
   "cell_type": "code",
   "execution_count": null,
   "id": "e9e66c32-3efb-4213-ab59-a2b0c0c3a063",
   "metadata": {},
   "outputs": [],
   "source": []
  }
 ],
 "metadata": {
  "kernelspec": {
   "display_name": "Python 3 (ipykernel)",
   "language": "python",
   "name": "python3"
  },
  "language_info": {
   "codemirror_mode": {
    "name": "ipython",
    "version": 3
   },
   "file_extension": ".py",
   "mimetype": "text/x-python",
   "name": "python",
   "nbconvert_exporter": "python",
   "pygments_lexer": "ipython3",
   "version": "3.13.3"
  }
 },
 "nbformat": 4,
 "nbformat_minor": 5
}
