{
 "cells": [
  {
   "cell_type": "markdown",
   "id": "0318d117-c537-4568-96d9-3a9a1ba584ea",
   "metadata": {},
   "source": [
    "## 결측치"
   ]
  },
  {
   "cell_type": "code",
   "execution_count": 63,
   "id": "37b5cca4-6ad8-40d6-8fd0-c226403835d7",
   "metadata": {},
   "outputs": [
    {
     "data": {
      "text/html": [
       "<div>\n",
       "<style scoped>\n",
       "    .dataframe tbody tr th:only-of-type {\n",
       "        vertical-align: middle;\n",
       "    }\n",
       "\n",
       "    .dataframe tbody tr th {\n",
       "        vertical-align: top;\n",
       "    }\n",
       "\n",
       "    .dataframe thead th {\n",
       "        text-align: right;\n",
       "    }\n",
       "</style>\n",
       "<table border=\"1\" class=\"dataframe\">\n",
       "  <thead>\n",
       "    <tr style=\"text-align: right;\">\n",
       "      <th></th>\n",
       "      <th>Name</th>\n",
       "      <th>Age</th>\n",
       "      <th>Score</th>\n",
       "    </tr>\n",
       "  </thead>\n",
       "  <tbody>\n",
       "    <tr>\n",
       "      <th>0</th>\n",
       "      <td>Alice</td>\n",
       "      <td>25.0</td>\n",
       "      <td>90.0</td>\n",
       "    </tr>\n",
       "    <tr>\n",
       "      <th>1</th>\n",
       "      <td>Bob</td>\n",
       "      <td>NaN</td>\n",
       "      <td>85.0</td>\n",
       "    </tr>\n",
       "    <tr>\n",
       "      <th>2</th>\n",
       "      <td>Charie</td>\n",
       "      <td>30.0</td>\n",
       "      <td>NaN</td>\n",
       "    </tr>\n",
       "  </tbody>\n",
       "</table>\n",
       "</div>"
      ],
      "text/plain": [
       "     Name   Age  Score\n",
       "0   Alice  25.0   90.0\n",
       "1     Bob   NaN   85.0\n",
       "2  Charie  30.0    NaN"
      ]
     },
     "execution_count": 63,
     "metadata": {},
     "output_type": "execute_result"
    }
   ],
   "source": [
    "import pandas as pd \n",
    "\n",
    "data = {'Name': ['Alice', 'Bob', 'Charie'],\n",
    "        'Age': [25, None, 30], \n",
    "        'Score': [90, 85, None]\n",
    "       }\n",
    "\n",
    "df = pd.DataFrame(data) \n",
    "df.head()"
   ]
  },
  {
   "cell_type": "code",
   "execution_count": 64,
   "id": "4a1527da-3e88-4c15-a3f8-e64e9ea92834",
   "metadata": {},
   "outputs": [
    {
     "name": "stdout",
     "output_type": "stream",
     "text": [
      "Name     0\n",
      "Age      1\n",
      "Score    1\n",
      "dtype: int64\n"
     ]
    }
   ],
   "source": [
    "print(df.isnull().sum())"
   ]
  },
  {
   "cell_type": "code",
   "execution_count": 65,
   "id": "061d9a5c-b714-4fa1-95f3-e93e831c73e9",
   "metadata": {},
   "outputs": [
    {
     "name": "stdout",
     "output_type": "stream",
     "text": [
      "결측치 확인\n",
      "    Name    Age  Score\n",
      "0  False  False  False\n",
      "1  False   True  False\n",
      "2  False  False   True\n",
      "\n",
      "결측치 처리 후 데이터\n",
      "     Name   Age  Score\n",
      "0   Alice  25.0   90.0\n",
      "1     Bob  27.5   85.0\n",
      "2  Charie  30.0    0.0\n"
     ]
    }
   ],
   "source": [
    "print(\"결측치 확인\")\n",
    "print(df.isnull())\n",
    "\n",
    "mean_age = df['Age'].mean()\n",
    "df['Age'] = df['Age'].fillna(mean_age)\n",
    "df['Score'] = df['Score'].fillna(0)\n",
    "\n",
    "print(\"\\n결측치 처리 후 데이터\")    \n",
    "print(df)"
   ]
  },
  {
   "cell_type": "markdown",
   "id": "311e2963-3c14-478b-88c2-1b0f08d003b9",
   "metadata": {},
   "source": [
    "## 이상치 "
   ]
  },
  {
   "cell_type": "code",
   "execution_count": null,
   "id": "af9d18bc-6cb5-4020-a09e-08454d582688",
   "metadata": {},
   "outputs": [],
   "source": []
  }
 ],
 "metadata": {
  "kernelspec": {
   "display_name": "Python 3 (ipykernel)",
   "language": "python",
   "name": "python3"
  },
  "language_info": {
   "codemirror_mode": {
    "name": "ipython",
    "version": 3
   },
   "file_extension": ".py",
   "mimetype": "text/x-python",
   "name": "python",
   "nbconvert_exporter": "python",
   "pygments_lexer": "ipython3",
   "version": "3.13.1"
  }
 },
 "nbformat": 4,
 "nbformat_minor": 5
}
