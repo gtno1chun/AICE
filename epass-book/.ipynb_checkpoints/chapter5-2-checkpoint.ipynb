{
 "cells": [
  {
   "cell_type": "code",
   "execution_count": 12,
   "id": "ae23e62b-aa60-4609-8a74-c59cd3c7e455",
   "metadata": {},
   "outputs": [
    {
     "name": "stdout",
     "output_type": "stream",
     "text": [
      "Index(['나이', '성별', '흉통유형', '안정시혈압', '콜레스테롤', '공복혈당', '심전도', '최대심박수', '운동유발협심증',\n",
      "       'ST우울증', '운동후ST검사', '주요혈관수', '결합유형', '심장질환여부'],\n",
      "      dtype='object')\n",
      "     나이  성별  흉통유형  안정시혈압  콜레스테롤  공복혈당  심전도  최대심박수  운동유발협심증  ST우울증  운동후ST검사  \\\n",
      "0    63   1     3    145    233     1    0    150        0    2.3        0   \n",
      "1    37   1     2    130    250     0    1    187        0    3.5        0   \n",
      "2    41   0     1    130    204     0    0    172        0    1.4        2   \n",
      "3    56   1     1    120    236     0    1    178        0    0.8        2   \n",
      "4    57   0     0    120    354     0    1    163        1    0.6        2   \n",
      "..   ..  ..   ...    ...    ...   ...  ...    ...      ...    ...      ...   \n",
      "298  57   0     0    140    241     0    1    123        1    0.2        1   \n",
      "299  45   1     3    110    264     0    1    132        0    1.2        1   \n",
      "300  68   1     0    144    193     1    1    141        0    3.4        1   \n",
      "301  57   1     0    130    131     0    1    115        1    1.2        1   \n",
      "302  57   0     1    130    236     0    0    174        0    0.0        1   \n",
      "\n",
      "     주요혈관수  결합유형  심장질환여부  \n",
      "0        0     1       1  \n",
      "1        0     2       1  \n",
      "2        0     2       1  \n",
      "3        0     2       1  \n",
      "4        0     2       1  \n",
      "..     ...   ...     ...  \n",
      "298      0     3       0  \n",
      "299      0     3       0  \n",
      "300      2     3       0  \n",
      "301      1     3       0  \n",
      "302      1     2       0  \n",
      "\n",
      "[303 rows x 14 columns]\n"
     ]
    }
   ],
   "source": [
    "import pandas as pd \n",
    "\n",
    "file_path = 'datasets/heart.csv'\n",
    "data = pd.read_csv(file_path)\n",
    "df = pd.DataFrame(data)\n",
    "df.head()\n",
    "\n",
    "df.columns = ['나이', '성별', '흉통유형', '안정시혈압', '콜레스테롤', '공복혈당', \n",
    "              '심전도', '최대심박수', '운동유발협심증', 'ST우울증', '운동후ST검사', \n",
    "              '주요혈관수', '결합유형', '심장질환여부']\n",
    "\n",
    "print(df.columns)\n",
    "print(df)\n"
   ]
  },
  {
   "cell_type": "markdown",
   "id": "b616101c-879e-4265-852d-adacb6589d90",
   "metadata": {},
   "source": [
    "### (1) 그룹화와 집계"
   ]
  },
  {
   "cell_type": "code",
   "execution_count": 13,
   "id": "e5161e37-1cad-4bc3-aeb1-0c41d0de64bd",
   "metadata": {},
   "outputs": [
    {
     "data": {
      "text/plain": [
       "성별\n",
       "0     96\n",
       "1    207\n",
       "dtype: int64"
      ]
     },
     "execution_count": 13,
     "metadata": {},
     "output_type": "execute_result"
    }
   ],
   "source": [
    "grouped = df.groupby('성별') \n",
    "\n",
    "grouped.size()\n"
   ]
  },
  {
   "cell_type": "code",
   "execution_count": 14,
   "id": "e13abb43-5aa0-40f5-a171-2a7641212d79",
   "metadata": {},
   "outputs": [
    {
     "name": "stdout",
     "output_type": "stream",
     "text": [
      "           나이      흉통유형       안정시혈압       콜레스테롤     공복혈당       심전도  \\\n",
      "성별                                                                   \n",
      "0   55.677083  1.041667  133.083333  261.302083  0.12500  0.572917   \n",
      "1   53.758454  0.932367  130.946860  239.289855  0.15942  0.507246   \n",
      "\n",
      "         최대심박수   운동유발협심증     ST우울증   운동후ST검사     주요혈관수      결합유형    심장질환여부  \n",
      "성별                                                                          \n",
      "0   151.125000  0.229167  0.876042  1.427083  0.552083  2.125000  0.750000  \n",
      "1   148.961353  0.371981  1.115459  1.386473  0.811594  2.400966  0.449275  \n"
     ]
    }
   ],
   "source": [
    "grouped_mean = grouped.mean()\n",
    "\n",
    "print(grouped_mean) "
   ]
  },
  {
   "cell_type": "code",
   "execution_count": 16,
   "id": "91185bc8-f58b-42f4-ac79-b72d977b37ad",
   "metadata": {},
   "outputs": [
    {
     "data": {
      "text/html": [
       "<div>\n",
       "<style scoped>\n",
       "    .dataframe tbody tr th:only-of-type {\n",
       "        vertical-align: middle;\n",
       "    }\n",
       "\n",
       "    .dataframe tbody tr th {\n",
       "        vertical-align: top;\n",
       "    }\n",
       "\n",
       "    .dataframe thead tr th {\n",
       "        text-align: left;\n",
       "    }\n",
       "\n",
       "    .dataframe thead tr:last-of-type th {\n",
       "        text-align: right;\n",
       "    }\n",
       "</style>\n",
       "<table border=\"1\" class=\"dataframe\">\n",
       "  <thead>\n",
       "    <tr>\n",
       "      <th></th>\n",
       "      <th colspan=\"2\" halign=\"left\">나이</th>\n",
       "      <th colspan=\"2\" halign=\"left\">콜레스테롤</th>\n",
       "    </tr>\n",
       "    <tr>\n",
       "      <th></th>\n",
       "      <th>max</th>\n",
       "      <th>min</th>\n",
       "      <th>mean</th>\n",
       "      <th>std</th>\n",
       "    </tr>\n",
       "    <tr>\n",
       "      <th>성별</th>\n",
       "      <th></th>\n",
       "      <th></th>\n",
       "      <th></th>\n",
       "      <th></th>\n",
       "    </tr>\n",
       "  </thead>\n",
       "  <tbody>\n",
       "    <tr>\n",
       "      <th>0</th>\n",
       "      <td>76</td>\n",
       "      <td>34</td>\n",
       "      <td>261.302083</td>\n",
       "      <td>65.088946</td>\n",
       "    </tr>\n",
       "    <tr>\n",
       "      <th>1</th>\n",
       "      <td>77</td>\n",
       "      <td>29</td>\n",
       "      <td>239.289855</td>\n",
       "      <td>42.782392</td>\n",
       "    </tr>\n",
       "  </tbody>\n",
       "</table>\n",
       "</div>"
      ],
      "text/plain": [
       "    나이           콜레스테롤           \n",
       "   max min        mean        std\n",
       "성별                               \n",
       "0   76  34  261.302083  65.088946\n",
       "1   77  29  239.289855  42.782392"
      ]
     },
     "execution_count": 16,
     "metadata": {},
     "output_type": "execute_result"
    }
   ],
   "source": [
    "grouped_stats = grouped.agg({\n",
    "    '나이': ['max', 'min'], \n",
    "    '콜레스테롤': ['mean', 'std']\n",
    "})\n",
    "\n",
    "grouped_stats "
   ]
  },
  {
   "cell_type": "code",
   "execution_count": 18,
   "id": "a56f5700-b6ad-4fa9-8c47-9adf1a0bc2af",
   "metadata": {},
   "outputs": [
    {
     "name": "stdout",
     "output_type": "stream",
     "text": [
      "                나이       안정시혈압       콜레스테롤      공복혈당       심전도       최대심박수  \\\n",
      "성별 흉통유형                                                                      \n",
      "0  0     57.256410  138.589744  267.538462  0.128205  0.538462  145.282051   \n",
      "   1     51.944444  128.055556  251.444444  0.111111  0.555556  162.833333   \n",
      "   2     54.971429  127.885714  261.057143  0.114286  0.600000  151.800000   \n",
      "   3     63.250000  147.500000  247.000000  0.250000  0.750000  149.500000   \n",
      "1  0     55.105769  129.557692  243.605769  0.125000  0.451923  138.759615   \n",
      "   1     51.031250  128.593750  241.031250  0.093750  0.656250  162.187500   \n",
      "   2     52.538462  132.057692  231.134615  0.250000  0.596154  158.173077   \n",
      "   3     54.315789  139.473684  235.052632  0.210526  0.315789  157.315789   \n",
      "\n",
      "          운동유발협심증     ST우울증   운동후ST검사     주요혈관수      결합유형    심장질환여부  \n",
      "성별 흉통유형                                                              \n",
      "0  0     0.461538  1.356410  1.179487  0.820513  2.282051  0.461538  \n",
      "   1     0.111111  0.461111  1.666667  0.555556  2.000000  0.888889  \n",
      "   2     0.057143  0.474286  1.571429  0.257143  2.028571  0.971429  \n",
      "   3     0.000000  1.575000  1.500000  0.500000  2.000000  1.000000  \n",
      "1  0     0.596154  1.393269  1.288462  1.019231  2.509615  0.201923  \n",
      "   1     0.062500  0.234375  1.687500  0.343750  2.218750  0.781250  \n",
      "   2     0.173077  1.015385  1.461538  0.807692  2.326923  0.673077  \n",
      "   3     0.210526  1.352632  1.210526  0.473684  2.315789  0.631579  \n"
     ]
    }
   ],
   "source": [
    "grouped_multi = df.groupby(['성별', '흉통유형']).mean() \n",
    "\n",
    "print(grouped_multi)"
   ]
  },
  {
   "cell_type": "code",
   "execution_count": 19,
   "id": "cab0b5a7-22da-4ef8-b452-64d8fd2028fa",
   "metadata": {},
   "outputs": [
    {
     "name": "stdout",
     "output_type": "stream",
     "text": [
      "1000\n"
     ]
    }
   ],
   "source": [
    "fruit_price = {'사과': 1000, '바나나': 500}\n",
    "print(fruit_price['사과'])"
   ]
  },
  {
   "cell_type": "code",
   "execution_count": 25,
   "id": "491f7557-4ec5-4533-98a5-4419f77520f8",
   "metadata": {},
   "outputs": [
    {
     "name": "stdout",
     "output_type": "stream",
     "text": [
      "2\n"
     ]
    }
   ],
   "source": [
    "matrix = [[1, 2], [3,4]]\n",
    "print(matrix[0][1])\n"
   ]
  },
  {
   "cell_type": "code",
   "execution_count": 27,
   "id": "fe27c8cf-e2c9-45e2-b503-7050d603cf58",
   "metadata": {},
   "outputs": [
    {
     "data": {
      "text/html": [
       "<div>\n",
       "<style scoped>\n",
       "    .dataframe tbody tr th:only-of-type {\n",
       "        vertical-align: middle;\n",
       "    }\n",
       "\n",
       "    .dataframe tbody tr th {\n",
       "        vertical-align: top;\n",
       "    }\n",
       "\n",
       "    .dataframe thead th {\n",
       "        text-align: right;\n",
       "    }\n",
       "</style>\n",
       "<table border=\"1\" class=\"dataframe\">\n",
       "  <thead>\n",
       "    <tr style=\"text-align: right;\">\n",
       "      <th></th>\n",
       "      <th>나이</th>\n",
       "      <th>성별</th>\n",
       "      <th>흉통유형</th>\n",
       "      <th>안정시혈압</th>\n",
       "      <th>콜레스테롤</th>\n",
       "      <th>공복혈당</th>\n",
       "      <th>심전도</th>\n",
       "      <th>최대심박수</th>\n",
       "      <th>운동유발협심증</th>\n",
       "      <th>ST우울증</th>\n",
       "      <th>운동후ST검사</th>\n",
       "      <th>주요혈관수</th>\n",
       "      <th>결합유형</th>\n",
       "      <th>심장질환여부</th>\n",
       "    </tr>\n",
       "  </thead>\n",
       "  <tbody>\n",
       "    <tr>\n",
       "      <th>0</th>\n",
       "      <td>63</td>\n",
       "      <td>1</td>\n",
       "      <td>3</td>\n",
       "      <td>145</td>\n",
       "      <td>233</td>\n",
       "      <td>1</td>\n",
       "      <td>0</td>\n",
       "      <td>150</td>\n",
       "      <td>0</td>\n",
       "      <td>2.3</td>\n",
       "      <td>0</td>\n",
       "      <td>0</td>\n",
       "      <td>1</td>\n",
       "      <td>1</td>\n",
       "    </tr>\n",
       "    <tr>\n",
       "      <th>1</th>\n",
       "      <td>37</td>\n",
       "      <td>1</td>\n",
       "      <td>2</td>\n",
       "      <td>130</td>\n",
       "      <td>250</td>\n",
       "      <td>0</td>\n",
       "      <td>1</td>\n",
       "      <td>187</td>\n",
       "      <td>0</td>\n",
       "      <td>3.5</td>\n",
       "      <td>0</td>\n",
       "      <td>0</td>\n",
       "      <td>2</td>\n",
       "      <td>1</td>\n",
       "    </tr>\n",
       "    <tr>\n",
       "      <th>2</th>\n",
       "      <td>41</td>\n",
       "      <td>0</td>\n",
       "      <td>1</td>\n",
       "      <td>130</td>\n",
       "      <td>204</td>\n",
       "      <td>0</td>\n",
       "      <td>0</td>\n",
       "      <td>172</td>\n",
       "      <td>0</td>\n",
       "      <td>1.4</td>\n",
       "      <td>2</td>\n",
       "      <td>0</td>\n",
       "      <td>2</td>\n",
       "      <td>1</td>\n",
       "    </tr>\n",
       "    <tr>\n",
       "      <th>3</th>\n",
       "      <td>56</td>\n",
       "      <td>1</td>\n",
       "      <td>1</td>\n",
       "      <td>120</td>\n",
       "      <td>236</td>\n",
       "      <td>0</td>\n",
       "      <td>1</td>\n",
       "      <td>178</td>\n",
       "      <td>0</td>\n",
       "      <td>0.8</td>\n",
       "      <td>2</td>\n",
       "      <td>0</td>\n",
       "      <td>2</td>\n",
       "      <td>1</td>\n",
       "    </tr>\n",
       "    <tr>\n",
       "      <th>4</th>\n",
       "      <td>57</td>\n",
       "      <td>0</td>\n",
       "      <td>0</td>\n",
       "      <td>120</td>\n",
       "      <td>354</td>\n",
       "      <td>0</td>\n",
       "      <td>1</td>\n",
       "      <td>163</td>\n",
       "      <td>1</td>\n",
       "      <td>0.6</td>\n",
       "      <td>2</td>\n",
       "      <td>0</td>\n",
       "      <td>2</td>\n",
       "      <td>1</td>\n",
       "    </tr>\n",
       "  </tbody>\n",
       "</table>\n",
       "</div>"
      ],
      "text/plain": [
       "   나이  성별  흉통유형  안정시혈압  콜레스테롤  공복혈당  심전도  최대심박수  운동유발협심증  ST우울증  운동후ST검사  \\\n",
       "0  63   1     3    145    233     1    0    150        0    2.3        0   \n",
       "1  37   1     2    130    250     0    1    187        0    3.5        0   \n",
       "2  41   0     1    130    204     0    0    172        0    1.4        2   \n",
       "3  56   1     1    120    236     0    1    178        0    0.8        2   \n",
       "4  57   0     0    120    354     0    1    163        1    0.6        2   \n",
       "\n",
       "   주요혈관수  결합유형  심장질환여부  \n",
       "0      0     1       1  \n",
       "1      0     2       1  \n",
       "2      0     2       1  \n",
       "3      0     2       1  \n",
       "4      0     2       1  "
      ]
     },
     "execution_count": 27,
     "metadata": {},
     "output_type": "execute_result"
    }
   ],
   "source": [
    "import pandas as pd \n",
    "\n",
    "file_path = 'datasets/heart.csv'\n",
    "data = pd.read_csv(file_path)\n",
    "#df = pd.DataFrame(data) \n",
    "\n",
    "df.columns = ['나이', '성별', '흉통유형', '안정시혈압', '콜레스테롤', '공복혈당', \n",
    "              '심전도', '최대심박수', '운동유발협심증', 'ST우울증', '운동후ST검사', \n",
    "              '주요혈관수', '결합유형', '심장질환여부'] \n",
    "df.head()"
   ]
  },
  {
   "cell_type": "code",
   "execution_count": null,
   "id": "8f1402f8-7944-42f9-87fb-8b10588158ac",
   "metadata": {},
   "outputs": [],
   "source": []
  }
 ],
 "metadata": {
  "kernelspec": {
   "display_name": "Python 3 (ipykernel)",
   "language": "python",
   "name": "python3"
  },
  "language_info": {
   "codemirror_mode": {
    "name": "ipython",
    "version": 3
   },
   "file_extension": ".py",
   "mimetype": "text/x-python",
   "name": "python",
   "nbconvert_exporter": "python",
   "pygments_lexer": "ipython3",
   "version": "3.13.1"
  }
 },
 "nbformat": 4,
 "nbformat_minor": 5
}
