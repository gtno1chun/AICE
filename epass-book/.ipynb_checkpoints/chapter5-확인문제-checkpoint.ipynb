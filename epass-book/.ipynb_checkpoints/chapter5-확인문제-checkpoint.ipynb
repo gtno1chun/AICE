{
 "cells": [
  {
   "cell_type": "markdown",
   "id": "c3e0fa30-8953-43d0-8481-a5fec2b31daa",
   "metadata": {},
   "source": [
    "### (1) 데이터 변합과 추가의 중요성 "
   ]
  },
  {
   "cell_type": "markdown",
   "id": "96bf2bcc-a899-4eac-b127-b2375c09931d",
   "metadata": {},
   "source": [
    "### (2) 데이터 병합(Join)"
   ]
  },
  {
   "cell_type": "code",
   "execution_count": 3,
   "id": "c2271584-4dcd-443e-aedf-12c2ad4ae54e",
   "metadata": {},
   "outputs": [
    {
     "name": "stdout",
     "output_type": "stream",
     "text": [
      "   제품ID  제품명\n",
      "0     1  노트북\n",
      "1     2  모니터\n",
      "2     3  키보드\n",
      "\n",
      "\n",
      "   제품ID    가격\n",
      "0     1  1000\n",
      "1     2   200\n",
      "2     4    50\n"
     ]
    }
   ],
   "source": [
    "import pandas as pd \n",
    "\n",
    "data1 = {'제품ID': [1, 2, 3],\n",
    "         '제품명': ['노트북', '모니터', '키보드'] \n",
    "        }\n",
    "df1 = pd.DataFrame(data1) \n",
    "\n",
    "data2 = {'제품ID': [1, 2, 4],\n",
    "         '가격': [1000, 200, 50]\n",
    "        }\n",
    "df2 = pd.DataFrame(data2) \n",
    "\n",
    "print(df1)\n",
    "print('\\n')\n",
    "print(df2)\n",
    "        "
   ]
  },
  {
   "cell_type": "code",
   "execution_count": 4,
   "id": "f322a649-1266-4e02-af11-acf6d1e480a3",
   "metadata": {},
   "outputs": [
    {
     "name": "stdout",
     "output_type": "stream",
     "text": [
      "   제품ID  제품명    가격\n",
      "0     1  노트북  1000\n",
      "1     2  모니터   200\n"
     ]
    }
   ],
   "source": [
    "inner_join = pd.merge(df1, df2, on='제품ID', how='inner')\n",
    "print(inner_join)"
   ]
  },
  {
   "cell_type": "code",
   "execution_count": 6,
   "id": "fbe32482-e669-42f5-bdfc-8f23434b183d",
   "metadata": {},
   "outputs": [
    {
     "name": "stdout",
     "output_type": "stream",
     "text": [
      "   제품ID  제품명      가격\n",
      "0     1  노트북  1000.0\n",
      "1     2  모니터   200.0\n",
      "2     3  키보드     NaN\n",
      "3     4  NaN    50.0\n"
     ]
    }
   ],
   "source": [
    "outer_join = pd.merge(df1, df2, on='제품ID', how='outer')\n",
    "print(outer_join)"
   ]
  },
  {
   "cell_type": "code",
   "execution_count": 7,
   "id": "9a1918ea-cb91-4243-8b99-8d30f2b065c8",
   "metadata": {},
   "outputs": [
    {
     "name": "stdout",
     "output_type": "stream",
     "text": [
      "   제품ID  제품명      가격\n",
      "0     1  노트북  1000.0\n",
      "1     2  모니터   200.0\n",
      "2     3  키보드     NaN\n"
     ]
    }
   ],
   "source": [
    "left_join = pd.merge(df1, df2, on='제품ID', how='left') \n",
    "print(left_join)"
   ]
  },
  {
   "cell_type": "code",
   "execution_count": 8,
   "id": "fa47a1ff-d09a-4797-af7d-439b45cebfa6",
   "metadata": {},
   "outputs": [
    {
     "name": "stdout",
     "output_type": "stream",
     "text": [
      "   제품ID  제품명    가격\n",
      "0     1  노트북  1000\n",
      "1     2  모니터   200\n",
      "2     4  NaN    50\n"
     ]
    }
   ],
   "source": [
    "right_join = pd.merge(df1, df2, on='제품ID', how='right')\n",
    "print(right_join)"
   ]
  },
  {
   "cell_type": "code",
   "execution_count": 10,
   "id": "d20ed6f2-8a5a-455f-93ce-d6fc1f32c268",
   "metadata": {},
   "outputs": [
    {
     "name": "stdout",
     "output_type": "stream",
     "text": [
      "   제품ID_x  제품명  제품ID_y    가격\n",
      "0       1  노트북       1  1000\n",
      "1       1  노트북       2   200\n",
      "2       1  노트북       4    50\n",
      "3       2  모니터       1  1000\n",
      "4       2  모니터       2   200\n",
      "5       2  모니터       4    50\n",
      "6       3  키보드       1  1000\n",
      "7       3  키보드       2   200\n",
      "8       3  키보드       4    50\n"
     ]
    }
   ],
   "source": [
    "cross_join = pd.merge(df1, df2, how='cross')\n",
    "print(cross_join)"
   ]
  },
  {
   "cell_type": "markdown",
   "id": "107708af-ee50-498c-8739-0e2d88d6f64a",
   "metadata": {},
   "source": [
    "### (3) 데이터 추가(Union) "
   ]
  },
  {
   "cell_type": "code",
   "execution_count": 11,
   "id": "fd336452-2598-4f6b-afdc-85807fcb4ab3",
   "metadata": {},
   "outputs": [
    {
     "name": "stdout",
     "output_type": "stream",
     "text": [
      "    이름  나이\n",
      "0  홍길동  30\n",
      "1  이순신  40\n",
      "\n",
      "\n",
      "    이름  나이\n",
      "0  강감찬  50\n",
      "1  유관순  20\n"
     ]
    }
   ],
   "source": [
    "data1 = {'이름': ['홍길동', '이순신'], \n",
    "         '나이': [30, 40]        \n",
    "        }\n",
    "df1 = pd.DataFrame(data1)\n",
    "data2 = {'이름': ['강감찬', '유관순'],\n",
    "         '나이': [50, 20]\n",
    "        }\n",
    "df2 = pd.DataFrame(data2) \n",
    "\n",
    "print(df1)\n",
    "print('\\n')\n",
    "print(df2)"
   ]
  },
  {
   "cell_type": "code",
   "execution_count": 12,
   "id": "8a1c193e-33be-4fdf-b465-f2edc401ec59",
   "metadata": {},
   "outputs": [
    {
     "name": "stdout",
     "output_type": "stream",
     "text": [
      "    이름  나이\n",
      "0  홍길동  30\n",
      "1  이순신  40\n",
      "2  강감찬  50\n",
      "3  유관순  20\n"
     ]
    }
   ],
   "source": [
    "union_df = pd.concat([df1, df2], ignore_index=True)\n",
    "print(union_df)"
   ]
  },
  {
   "cell_type": "code",
   "execution_count": 18,
   "id": "be8caff9-8227-4dc0-94b1-9e74d531b05a",
   "metadata": {},
   "outputs": [
    {
     "name": "stdout",
     "output_type": "stream",
     "text": [
      "    이름    나이   주소\n",
      "0  홍길동  30.0  NaN\n",
      "1  이순신  40.0  NaN\n",
      "2  정약용   NaN   서울\n",
      "3  김유신   NaN   경주\n"
     ]
    }
   ],
   "source": [
    "data3 = {'이름': ['정약용', '김유신'],\n",
    "         '주소': ['서울', '경주']\n",
    "        }\n",
    "df3 = pd.DataFrame(data3) \n",
    "\n",
    "union_with_different_columns = pd.concat([df1, df3], ignore_index=True)\n",
    "print(union_with_different_columns)"
   ]
  },
  {
   "cell_type": "code",
   "execution_count": null,
   "id": "0bc3e11f-e8de-460a-8432-c4ccf35fe817",
   "metadata": {},
   "outputs": [],
   "source": []
  }
 ],
 "metadata": {
  "kernelspec": {
   "display_name": "Python 3 (ipykernel)",
   "language": "python",
   "name": "python3"
  },
  "language_info": {
   "codemirror_mode": {
    "name": "ipython",
    "version": 3
   },
   "file_extension": ".py",
   "mimetype": "text/x-python",
   "name": "python",
   "nbconvert_exporter": "python",
   "pygments_lexer": "ipython3",
   "version": "3.13.3"
  }
 },
 "nbformat": 4,
 "nbformat_minor": 5
}
