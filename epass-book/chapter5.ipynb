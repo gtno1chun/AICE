{
 "cells": [
  {
   "cell_type": "markdown",
   "id": "0318d117-c537-4568-96d9-3a9a1ba584ea",
   "metadata": {},
   "source": [
    "## 결측치"
   ]
  },
  {
   "cell_type": "code",
   "execution_count": 1,
   "id": "37b5cca4-6ad8-40d6-8fd0-c226403835d7",
   "metadata": {},
   "outputs": [
    {
     "data": {
      "text/html": [
       "<div>\n",
       "<style scoped>\n",
       "    .dataframe tbody tr th:only-of-type {\n",
       "        vertical-align: middle;\n",
       "    }\n",
       "\n",
       "    .dataframe tbody tr th {\n",
       "        vertical-align: top;\n",
       "    }\n",
       "\n",
       "    .dataframe thead th {\n",
       "        text-align: right;\n",
       "    }\n",
       "</style>\n",
       "<table border=\"1\" class=\"dataframe\">\n",
       "  <thead>\n",
       "    <tr style=\"text-align: right;\">\n",
       "      <th></th>\n",
       "      <th>Name</th>\n",
       "      <th>Age</th>\n",
       "      <th>Score</th>\n",
       "    </tr>\n",
       "  </thead>\n",
       "  <tbody>\n",
       "    <tr>\n",
       "      <th>0</th>\n",
       "      <td>Alice</td>\n",
       "      <td>25.0</td>\n",
       "      <td>90.0</td>\n",
       "    </tr>\n",
       "    <tr>\n",
       "      <th>1</th>\n",
       "      <td>Bob</td>\n",
       "      <td>NaN</td>\n",
       "      <td>85.0</td>\n",
       "    </tr>\n",
       "    <tr>\n",
       "      <th>2</th>\n",
       "      <td>Charie</td>\n",
       "      <td>30.0</td>\n",
       "      <td>NaN</td>\n",
       "    </tr>\n",
       "  </tbody>\n",
       "</table>\n",
       "</div>"
      ],
      "text/plain": [
       "     Name   Age  Score\n",
       "0   Alice  25.0   90.0\n",
       "1     Bob   NaN   85.0\n",
       "2  Charie  30.0    NaN"
      ]
     },
     "execution_count": 1,
     "metadata": {},
     "output_type": "execute_result"
    }
   ],
   "source": [
    "import pandas as pd \n",
    "\n",
    "data = {'Name': ['Alice', 'Bob', 'Charie'],\n",
    "        'Age': [25, None, 30], \n",
    "        'Score': [90, 85, None]\n",
    "       }\n",
    "\n",
    "df = pd.DataFrame(data) \n",
    "df.head()"
   ]
  },
  {
   "cell_type": "code",
   "execution_count": 2,
   "id": "4a1527da-3e88-4c15-a3f8-e64e9ea92834",
   "metadata": {},
   "outputs": [
    {
     "name": "stdout",
     "output_type": "stream",
     "text": [
      "Name     0\n",
      "Age      1\n",
      "Score    1\n",
      "dtype: int64\n"
     ]
    }
   ],
   "source": [
    "print(df.isnull().sum())"
   ]
  },
  {
   "cell_type": "code",
   "execution_count": 3,
   "id": "061d9a5c-b714-4fa1-95f3-e93e831c73e9",
   "metadata": {},
   "outputs": [
    {
     "name": "stdout",
     "output_type": "stream",
     "text": [
      "결측치 확인\n",
      "    Name    Age  Score\n",
      "0  False  False  False\n",
      "1  False   True  False\n",
      "2  False  False   True\n",
      "\n",
      "결측치 처리 후 데이터\n",
      "     Name   Age  Score\n",
      "0   Alice  25.0   90.0\n",
      "1     Bob  27.5   85.0\n",
      "2  Charie  30.0    0.0\n"
     ]
    }
   ],
   "source": [
    "print(\"결측치 확인\")\n",
    "print(df.isnull())\n",
    "\n",
    "mean_age = df['Age'].mean()\n",
    "df['Age'] = df['Age'].fillna(mean_age)\n",
    "df['Score'] = df['Score'].fillna(0)\n",
    "\n",
    "print(\"\\n결측치 처리 후 데이터\")    \n",
    "print(df)"
   ]
  },
  {
   "cell_type": "markdown",
   "id": "311e2963-3c14-478b-88c2-1b0f08d003b9",
   "metadata": {},
   "source": [
    "## 이상치 "
   ]
  },
  {
   "cell_type": "code",
   "execution_count": 4,
   "id": "af9d18bc-6cb5-4020-a09e-08454d582688",
   "metadata": {},
   "outputs": [
    {
     "name": "stdout",
     "output_type": "stream",
     "text": [
      "데이터:\n",
      "    Height\n",
      "0     150\n",
      "1     160\n",
      "2     170\n",
      "3     180\n",
      "4     350\n"
     ]
    }
   ],
   "source": [
    "import pandas as pd \n",
    "\n",
    "data = {'Height': [150, 160, 170, 180, 350]}\n",
    "df = pd.DataFrame(data)\n",
    "\n",
    "print(\"데이터:\\n\", df)"
   ]
  },
  {
   "cell_type": "code",
   "execution_count": 5,
   "id": "2750f060-c7c3-4b4c-af6f-87b451020e30",
   "metadata": {},
   "outputs": [
    {
     "name": "stdout",
     "output_type": "stream",
     "text": [
      "최대값 350\n",
      "최소값 150\n"
     ]
    }
   ],
   "source": [
    "print(\"최대값\", df['Height'].max())\n",
    "print(\"최소값\", df['Height'].min())"
   ]
  },
  {
   "cell_type": "code",
   "execution_count": 8,
   "id": "b7c9ed40-7af1-4ea2-9be3-c9ce881a99a1",
   "metadata": {},
   "outputs": [
    {
     "name": "stdout",
     "output_type": "stream",
     "text": [
      "\n",
      "IQR 기준으로 찾은 이상치: \n",
      "    Height\n",
      "4     350\n"
     ]
    }
   ],
   "source": [
    "Q1 = df['Height'].quantile(0.25)\n",
    "Q3 = df['Height'].quantile(0.75) \n",
    "IQR = Q3 - Q1 \n",
    "\n",
    "lower_bound = Q1-1.5*IQR\n",
    "upper_bound = Q3+1.5*IQR \n",
    "\n",
    "outliers = df[(df['Height'] < lower_bound) | (df['Height'] > upper_bound)] \n",
    "print('\\nIQR 기준으로 찾은 이상치: \\n', outliers) "
   ]
  },
  {
   "cell_type": "code",
   "execution_count": 9,
   "id": "f82409ad-2835-4229-a550-81c6a17080af",
   "metadata": {},
   "outputs": [
    {
     "name": "stdout",
     "output_type": "stream",
     "text": [
      "\n",
      "Z-스코어:\n",
      "    Height   Z_Score\n",
      "0     150 -0.696373\n",
      "1     160 -0.562455\n",
      "2     170 -0.428537\n",
      "3     180 -0.294619\n",
      "4     350  1.981985\n",
      "\n",
      "Z-스코어 기준으로 찾은 이상치:\n",
      " Empty DataFrame\n",
      "Columns: [Height, Z_Score]\n",
      "Index: []\n"
     ]
    }
   ],
   "source": [
    "from scipy.stats import zscore\n",
    "\n",
    "df['Z_Score'] = zscore(df['Height']) \n",
    "print('\\nZ-스코어:\\n', df) \n",
    "\n",
    "outliers = df[df['Z_Score'].abs() > 3]\n",
    "print('\\nZ-스코어 기준으로 찾은 이상치:\\n', outliers)"
   ]
  },
  {
   "cell_type": "code",
   "execution_count": 10,
   "id": "2b63e82d-e2fa-4aeb-95a4-fd2c3a31cea6",
   "metadata": {},
   "outputs": [
    {
     "name": "stdout",
     "output_type": "stream",
     "text": [
      "\n",
      "이상치 제거 후 데이터: \n",
      "    Height   Z_Score\n",
      "0     150 -0.696373\n",
      "1     160 -0.562455\n",
      "2     170 -0.428537\n",
      "3     180 -0.294619\n"
     ]
    }
   ],
   "source": [
    "df_cleaned = df[(df['Height'] >= lower_bound) & (df['Height'] <= upper_bound)] \n",
    "print('\\n이상치 제거 후 데이터: \\n', df_cleaned)"
   ]
  },
  {
   "cell_type": "code",
   "execution_count": 11,
   "id": "ee8b0deb-1fda-4bf8-b9ed-8bc5ce641b29",
   "metadata": {},
   "outputs": [
    {
     "name": "stdout",
     "output_type": "stream",
     "text": [
      "\n",
      "이상치를 중앙값으로 대체한 데이터:\n",
      "    Height   Z_Score\n",
      "0   150.0 -0.696373\n",
      "1   160.0 -0.562455\n",
      "2   170.0 -0.428537\n",
      "3   180.0 -0.294619\n",
      "4   165.0  1.981985\n"
     ]
    }
   ],
   "source": [
    "median_value = df[(df['Height'] >= lower_bound) & (df['Height'] <= upper_bound)]['Height'].median()\n",
    "df['Height'] = df['Height'].apply(lambda x: median_value \n",
    "                                  if (x < lower_bound or x > upper_bound)\n",
    "                                  else x)\n",
    "print('\\n이상치를 중앙값으로 대체한 데이터:\\n', df)"
   ]
  },
  {
   "cell_type": "code",
   "execution_count": 12,
   "id": "ff167b41-8947-470e-8543-b3d99f02bd17",
   "metadata": {},
   "outputs": [
    {
     "data": {
      "text/plain": [
       "np.float64(165.0)"
      ]
     },
     "execution_count": 12,
     "metadata": {},
     "output_type": "execute_result"
    }
   ],
   "source": [
    "median_value"
   ]
  },
  {
   "cell_type": "markdown",
   "id": "2778c164-2c41-4879-80d7-bc00683fb1a7",
   "metadata": {},
   "source": [
    "## 수치형 데이터 전처리 "
   ]
  },
  {
   "cell_type": "code",
   "execution_count": 13,
   "id": "46f6601a-8cdd-4994-a89d-841a6de260c7",
   "metadata": {},
   "outputs": [
    {
     "name": "stdout",
     "output_type": "stream",
     "text": [
      "   Age Age_Group\n",
      "0   15       10대\n",
      "1   22       20대\n",
      "2   35       20대\n",
      "3   50       30대\n",
      "4   72    40대 이상\n"
     ]
    }
   ],
   "source": [
    "import pandas as pd \n",
    "\n",
    "data = {'Age': [15, 22, 35, 50, 72]}\n",
    "df = pd.DataFrame(data) \n",
    "\n",
    "bins = [0, 20, 40, 60, 80] \n",
    "labels = ['10대', '20대', '30대', '40대 이상'] \n",
    "df['Age_Group'] = pd.cut(df['Age'], bins=bins, labels=labels) \n",
    "\n",
    "print(df) "
   ]
  },
  {
   "cell_type": "code",
   "execution_count": 16,
   "id": "4543a392-3079-4d0a-accd-db4bb0be5fc3",
   "metadata": {},
   "outputs": [
    {
     "name": "stdout",
     "output_type": "stream",
     "text": [
      "   Age Age_Group Age_Quantile\n",
      "0   15       10대           하위\n",
      "1   22       20대           하위\n",
      "2   35       20대           중위\n",
      "3   50       30대           상위\n",
      "4   72    40대 이상           상위\n"
     ]
    }
   ],
   "source": [
    "df['Age_Quantile'] = pd.qcut(df['Age'], q=3, labels=['하위', '중위', '상위'])\n",
    "print(df)"
   ]
  },
  {
   "cell_type": "code",
   "execution_count": 17,
   "id": "76b74841-456f-45d1-bfce-298aab762b20",
   "metadata": {},
   "outputs": [
    {
     "name": "stdout",
     "output_type": "stream",
     "text": [
      "   Height  Height_Normalized\n",
      "0     150               0.00\n",
      "1     160               0.25\n",
      "2     170               0.50\n",
      "3     180               0.75\n",
      "4     190               1.00\n"
     ]
    }
   ],
   "source": [
    "from sklearn.preprocessing import MinMaxScaler \n",
    "import pandas as pd \n",
    "\n",
    "data = {'Height': [150, 160, 170, 180, 190]} \n",
    "df = pd.DataFrame(data) \n",
    "\n",
    "scaler = MinMaxScaler()\n",
    "df['Height_Normalized'] = scaler.fit_transform(df[['Height']])\n",
    "\n",
    "print(df)"
   ]
  },
  {
   "cell_type": "code",
   "execution_count": 18,
   "id": "a1b4273a-b170-47bf-98fb-05dd4e36ddd7",
   "metadata": {},
   "outputs": [
    {
     "name": "stdout",
     "output_type": "stream",
     "text": [
      "   Weight  Weight_standardized\n",
      "0      50            -1.414214\n",
      "1      60            -0.707107\n",
      "2      70             0.000000\n",
      "3      80             0.707107\n",
      "4      90             1.414214\n"
     ]
    }
   ],
   "source": [
    "from sklearn.preprocessing import StandardScaler \n",
    "import pandas as pd \n",
    "\n",
    "data = {'Weight': [50, 60, 70, 80, 90]} \n",
    "df = pd.DataFrame(data) \n",
    "\n",
    "scaler = StandardScaler() \n",
    "df['Weight_standardized'] = scaler.fit_transform(df[['Weight']])\n",
    "\n",
    "print(df)"
   ]
  },
  {
   "cell_type": "code",
   "execution_count": 19,
   "id": "83501131-3f00-4ada-9bc3-279702fd693a",
   "metadata": {},
   "outputs": [
    {
     "name": "stdout",
     "output_type": "stream",
     "text": [
      "   Age  Weight Age_Group  Weight_Normalizard  Weight_Standardized\n",
      "0   15      50       10대                0.00            -1.414214\n",
      "1   22      60       20대                0.25            -0.707107\n",
      "2   35      70       20대                0.50             0.000000\n",
      "3   50      80       30대                0.75             0.707107\n",
      "4   72      90    40대 이상                1.00             1.414214\n"
     ]
    }
   ],
   "source": [
    "import pandas as pd \n",
    "from sklearn.preprocessing import MinMaxScaler, StandardScaler \n",
    "\n",
    "data = {'Age': [15, 22, 35, 50, 72], 'Weight': [50, 60, 70, 80, 90 ]}\n",
    "df = pd.DataFrame(data) \n",
    "\n",
    "bins = [0, 20, 40, 60, 80] \n",
    "labels = ['10대', '20대', '30대', '40대 이상']\n",
    "df['Age_Group'] = pd.cut(df['Age'], bins=bins, labels=labels)\n",
    "\n",
    "minmax_scaler = MinMaxScaler()\n",
    "df['Weight_Normalizard'] = minmax_scaler.fit_transform(df[['Weight']])\n",
    "\n",
    "std_scaler = StandardScaler() \n",
    "df['Weight_Standardized'] = std_scaler.fit_transform(df[['Weight']]) \n",
    "\n",
    "print(df) \n"
   ]
  },
  {
   "cell_type": "markdown",
   "id": "08e17976-c0bb-4ee0-b3ce-57543252c82a",
   "metadata": {},
   "source": [
    "## 범주형 데이처 전처리 \n",
    "```\n",
    "서울 -> 0\n",
    "부산 -> 1\n",
    "```"
   ]
  },
  {
   "cell_type": "code",
   "execution_count": 20,
   "id": "ef8f3a9c-7a59-49c7-8029-00a99611cd31",
   "metadata": {},
   "outputs": [],
   "source": [
    "import pandas as pd\n",
    "from sklearn.preprocessing import LabelEncoder \n",
    "\n",
    "data = {'City': ['서울', '부산', '대구', '서울', '부산']}\n",
    "df = pd.DataFrame(data) \n"
   ]
  },
  {
   "cell_type": "code",
   "execution_count": 21,
   "id": "9cd74fe2-a83d-49be-933d-4553911acd45",
   "metadata": {},
   "outputs": [
    {
     "name": "stdout",
     "output_type": "stream",
     "text": [
      "  City  City_Encoded\n",
      "0   서울             2\n",
      "1   부산             1\n",
      "2   대구             0\n",
      "3   서울             2\n",
      "4   부산             1\n"
     ]
    }
   ],
   "source": [
    "encoder = LabelEncoder()\n",
    "df['City_Encoded'] = encoder.fit_transform(df['City'])\n",
    "print(df)"
   ]
  },
  {
   "cell_type": "code",
   "execution_count": 22,
   "id": "f7f01ae8-7b57-4a01-863a-f2a5cefa1b4e",
   "metadata": {},
   "outputs": [
    {
     "name": "stdout",
     "output_type": "stream",
     "text": [
      "   City_대구  City_부산  City_서울\n",
      "0    False    False     True\n",
      "1    False     True    False\n",
      "2     True    False    False\n",
      "3    False    False     True\n",
      "4    False     True    False\n"
     ]
    }
   ],
   "source": [
    "import pandas as pd \n",
    "\n",
    "data = {'City': ['서울', '부산', '대구', '서울', '부산']}\n",
    "df = pd.DataFrame(data)\n",
    "\n",
    "df_encoded = pd.get_dummies(df, columns=['City']) \n",
    "#df['City_대구', 'City_부산', 'City_서울'] = \n",
    "print(df_encoded)"
   ]
  },
  {
   "cell_type": "markdown",
   "id": "e2e112bc-3d5c-4dc5-a05e-0b5ccf424fa9",
   "metadata": {},
   "source": [
    "## 기존 데이터 삭제"
   ]
  },
  {
   "cell_type": "code",
   "execution_count": 23,
   "id": "cce4c074-b001-4ef2-8361-c66e71f67221",
   "metadata": {},
   "outputs": [],
   "source": [
    "data = {'Name': ['Alice', 'Bob', 'Charlie', 'David'],\n",
    "       'Age': [25, 30, 35, 40],\n",
    "       'Score': [90, 85, 75, 60]}"
   ]
  },
  {
   "cell_type": "code",
   "execution_count": 24,
   "id": "4a234801-da68-4ed3-9366-d845f09a06b9",
   "metadata": {},
   "outputs": [
    {
     "name": "stdout",
     "output_type": "stream",
     "text": [
      "특정 행 삭제 후 데이터:\n",
      "    Name  Age  Score\n",
      "0  Alice   25     90\n",
      "1    Bob   30     85\n",
      "3  David   40     60\n"
     ]
    }
   ],
   "source": [
    "import pandas as pd \n",
    "\n",
    "df = pd.DataFrame(data)\n",
    "\n",
    "df_dropped = df.drop(index=2)\n",
    "\n",
    "print('특정 행 삭제 후 데이터:')\n",
    "print(df_dropped)"
   ]
  },
  {
   "cell_type": "code",
   "execution_count": 25,
   "id": "65a63a54-47f4-4942-bbf7-b0414194b951",
   "metadata": {},
   "outputs": [
    {
     "name": "stdout",
     "output_type": "stream",
     "text": [
      "      Name  Age\n",
      "0    Alice   25\n",
      "1      Bob   30\n",
      "2  Charlie   35\n",
      "3    David   40\n"
     ]
    }
   ],
   "source": [
    "df_dropped = df.drop(columns = ['Score'])\n",
    "print(df_dropped)"
   ]
  },
  {
   "cell_type": "code",
   "execution_count": 26,
   "id": "22b24f86-f873-467d-b240-e4613e54a67b",
   "metadata": {},
   "outputs": [
    {
     "data": {
      "text/html": [
       "<div>\n",
       "<style scoped>\n",
       "    .dataframe tbody tr th:only-of-type {\n",
       "        vertical-align: middle;\n",
       "    }\n",
       "\n",
       "    .dataframe tbody tr th {\n",
       "        vertical-align: top;\n",
       "    }\n",
       "\n",
       "    .dataframe thead th {\n",
       "        text-align: right;\n",
       "    }\n",
       "</style>\n",
       "<table border=\"1\" class=\"dataframe\">\n",
       "  <thead>\n",
       "    <tr style=\"text-align: right;\">\n",
       "      <th></th>\n",
       "      <th>Name</th>\n",
       "      <th>Age</th>\n",
       "      <th>Score</th>\n",
       "    </tr>\n",
       "  </thead>\n",
       "  <tbody>\n",
       "    <tr>\n",
       "      <th>0</th>\n",
       "      <td>Alice</td>\n",
       "      <td>25.0</td>\n",
       "      <td>90.0</td>\n",
       "    </tr>\n",
       "    <tr>\n",
       "      <th>1</th>\n",
       "      <td>Bob</td>\n",
       "      <td>NaN</td>\n",
       "      <td>85.0</td>\n",
       "    </tr>\n",
       "    <tr>\n",
       "      <th>2</th>\n",
       "      <td>Charlie</td>\n",
       "      <td>35.0</td>\n",
       "      <td>NaN</td>\n",
       "    </tr>\n",
       "    <tr>\n",
       "      <th>3</th>\n",
       "      <td>David</td>\n",
       "      <td>40.0</td>\n",
       "      <td>60.0</td>\n",
       "    </tr>\n",
       "  </tbody>\n",
       "</table>\n",
       "</div>"
      ],
      "text/plain": [
       "      Name   Age  Score\n",
       "0    Alice  25.0   90.0\n",
       "1      Bob   NaN   85.0\n",
       "2  Charlie  35.0    NaN\n",
       "3    David  40.0   60.0"
      ]
     },
     "execution_count": 26,
     "metadata": {},
     "output_type": "execute_result"
    }
   ],
   "source": [
    "data_with_na = {'Name': ['Alice', 'Bob', 'Charlie', 'David'],\n",
    "       'Age': [25, None, 35, 40],\n",
    "       'Score': [90, 85, None, 60]}\n",
    "df_with_na = pd.DataFrame(data_with_na) \n",
    "df_with_na"
   ]
  },
  {
   "cell_type": "code",
   "execution_count": 27,
   "id": "274903a5-d5a0-452c-abc9-2033b8442de9",
   "metadata": {},
   "outputs": [
    {
     "name": "stdout",
     "output_type": "stream",
     "text": [
      "\n",
      "결측치가 포함된 행 삭제 후 데이터\n",
      "    Name   Age  Score\n",
      "0  Alice  25.0   90.0\n",
      "3  David  40.0   60.0\n"
     ]
    }
   ],
   "source": [
    "df_clean = df_with_na.dropna()\n",
    "print('\\n결측치가 포함된 행 삭제 후 데이터') \n",
    "print(df_clean)"
   ]
  },
  {
   "cell_type": "code",
   "execution_count": 28,
   "id": "d9a176c6-8bcf-4822-832f-cd5807af8be3",
   "metadata": {},
   "outputs": [
    {
     "data": {
      "text/html": [
       "<div>\n",
       "<style scoped>\n",
       "    .dataframe tbody tr th:only-of-type {\n",
       "        vertical-align: middle;\n",
       "    }\n",
       "\n",
       "    .dataframe tbody tr th {\n",
       "        vertical-align: top;\n",
       "    }\n",
       "\n",
       "    .dataframe thead th {\n",
       "        text-align: right;\n",
       "    }\n",
       "</style>\n",
       "<table border=\"1\" class=\"dataframe\">\n",
       "  <thead>\n",
       "    <tr style=\"text-align: right;\">\n",
       "      <th></th>\n",
       "      <th>Name</th>\n",
       "      <th>Age</th>\n",
       "      <th>Score</th>\n",
       "    </tr>\n",
       "  </thead>\n",
       "  <tbody>\n",
       "    <tr>\n",
       "      <th>0</th>\n",
       "      <td>Alice</td>\n",
       "      <td>25</td>\n",
       "      <td>90</td>\n",
       "    </tr>\n",
       "    <tr>\n",
       "      <th>1</th>\n",
       "      <td>Bob</td>\n",
       "      <td>30</td>\n",
       "      <td>85</td>\n",
       "    </tr>\n",
       "    <tr>\n",
       "      <th>2</th>\n",
       "      <td>Alice</td>\n",
       "      <td>25</td>\n",
       "      <td>90</td>\n",
       "    </tr>\n",
       "    <tr>\n",
       "      <th>3</th>\n",
       "      <td>David</td>\n",
       "      <td>40</td>\n",
       "      <td>60</td>\n",
       "    </tr>\n",
       "  </tbody>\n",
       "</table>\n",
       "</div>"
      ],
      "text/plain": [
       "    Name  Age  Score\n",
       "0  Alice   25     90\n",
       "1    Bob   30     85\n",
       "2  Alice   25     90\n",
       "3  David   40     60"
      ]
     },
     "execution_count": 28,
     "metadata": {},
     "output_type": "execute_result"
    }
   ],
   "source": [
    "data_with_duplicates = {'Name': ['Alice', 'Bob', 'Alice', 'David'],\n",
    "                        'Age': [25, 30, 25, 40],\n",
    "                        'Score': [90, 85, 90, 60]}\n",
    "df_with_duplicates = pd.DataFrame(data_with_duplicates) \n",
    "df_with_duplicates"
   ]
  },
  {
   "cell_type": "code",
   "execution_count": 29,
   "id": "c65b9f3d-f5c2-4c97-bdf3-1794fe86bac9",
   "metadata": {},
   "outputs": [
    {
     "name": "stdout",
     "output_type": "stream",
     "text": [
      "\n",
      "중복 데이터 삭제 후 데이터:\n",
      "    Name  Age  Score\n",
      "0  Alice   25     90\n",
      "1    Bob   30     85\n",
      "3  David   40     60\n"
     ]
    }
   ],
   "source": [
    "df_unique = df_with_duplicates.drop_duplicates()\n",
    "print('\\n중복 데이터 삭제 후 데이터:')\n",
    "print(df_unique) "
   ]
  },
  {
   "cell_type": "markdown",
   "id": "6f33af13-f51c-4f5b-8ff5-cfce7fb21a80",
   "metadata": {},
   "source": [
    "#### 실습"
   ]
  },
  {
   "cell_type": "code",
   "execution_count": 30,
   "id": "27a0d1f4-ff4d-4f82-9793-21180f22b9ce",
   "metadata": {},
   "outputs": [
    {
     "name": "stdout",
     "output_type": "stream",
     "text": [
      "      Name   Age  Score\n",
      "0    Alice  25.0     90\n",
      "1      Bob   NaN     85\n",
      "2  Charlie  35.0     75\n",
      "3    David  40.0     60\n",
      "4      Eve  29.0     85\n",
      "\n",
      "       Name   Age\n",
      "0    Alice  25.0\n",
      "2  Charlie  35.0\n",
      "3    David  40.0\n",
      "4      Eve  29.0\n"
     ]
    }
   ],
   "source": [
    "import pandas as pd \n",
    "\n",
    "data = {'Name': ['Alice', 'Bob', 'Charlie', 'David', 'Eve'],\n",
    "        'Age': [25, None, 35, 40, 29],\n",
    "        'Score': [90, 85, 75, 60, 85]}\n",
    "df = pd.DataFrame(data)\n",
    "print(df)\n",
    "\n",
    "df = df.drop(index=1)\n",
    "df = df.drop(columns=['Score'])\n",
    "df = df.dropna()\n",
    "\n",
    "print('\\n', df)\n",
    "  "
   ]
  },
  {
   "cell_type": "code",
   "execution_count": 31,
   "id": "b2e8b464-910a-41e7-8789-9deeca59686a",
   "metadata": {},
   "outputs": [
    {
     "name": "stdout",
     "output_type": "stream",
     "text": [
      "      Name   Age  Score\n",
      "0    Alice  25.0     90\n",
      "1      Bob   NaN     85\n",
      "2  Charlie  35.0     75\n",
      "3    David  40.0     60\n",
      "4      Eve  29.0     85\n",
      "\n",
      "       Name   Age\n",
      "0    Alice  25.0\n",
      "2  Charlie  35.0\n",
      "3    David  40.0\n",
      "4      Eve  29.0 \n",
      "\n",
      "       Name   Age  Score\n",
      "0    Alice  25.0     90\n",
      "2  Charlie  35.0     75\n",
      "3    David  40.0     60\n",
      "4      Eve  29.0     85\n"
     ]
    }
   ],
   "source": [
    "import pandas as pd \n",
    "\n",
    "data = {'Name': ['Alice', 'Bob', 'Charlie', 'David', 'Eve'],\n",
    "        'Age': [25, None, 35, 40, 29],\n",
    "        'Score': [90, 85, 75, 60, 85]}\n",
    "df = pd.DataFrame(data)\n",
    "print(df)\n",
    "\n",
    "df_drop = df.drop(index=1, columns=['Score'])\n",
    "df_dropna = df.dropna()\n",
    "\n",
    "print('\\n', df_drop, '\\n\\n', df_dropna)"
   ]
  },
  {
   "cell_type": "code",
   "execution_count": null,
   "id": "da75e2c2-1fcb-4d97-9c9f-a735a9537573",
   "metadata": {},
   "outputs": [],
   "source": []
  }
 ],
 "metadata": {
  "kernelspec": {
   "display_name": "Python 3 (ipykernel)",
   "language": "python",
   "name": "python3"
  },
  "language_info": {
   "codemirror_mode": {
    "name": "ipython",
    "version": 3
   },
   "file_extension": ".py",
   "mimetype": "text/x-python",
   "name": "python",
   "nbconvert_exporter": "python",
   "pygments_lexer": "ipython3",
   "version": "3.13.3"
  }
 },
 "nbformat": 4,
 "nbformat_minor": 5
}
